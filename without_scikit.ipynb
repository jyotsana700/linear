{
  "nbformat": 4,
  "nbformat_minor": 0,
  "metadata": {
    "colab": {
      "name": "without_scikit.ipynb",
      "provenance": [],
      "authorship_tag": "ABX9TyN81dBL6Uc+7AajwOKXQ3fx",
      "include_colab_link": true
    },
    "kernelspec": {
      "name": "python3",
      "display_name": "Python 3"
    },
    "language_info": {
      "name": "python"
    }
  },
  "cells": [
    {
      "cell_type": "markdown",
      "metadata": {
        "id": "view-in-github",
        "colab_type": "text"
      },
      "source": [
        "<a href=\"https://colab.research.google.com/github/jyotsana700/linear/blob/main/without_scikit.ipynb\" target=\"_parent\"><img src=\"https://colab.research.google.com/assets/colab-badge.svg\" alt=\"Open In Colab\"/></a>"
      ]
    },
    {
      "cell_type": "code",
      "execution_count": null,
      "metadata": {
        "id": "Cl_GmK9Pjx_4"
      },
      "outputs": [],
      "source": [
        "#import necessary libraries\n",
        "import pandas as pd\n",
        "import numpy as np\n",
        "import math\n",
        "import operator\n",
        "import matplotlib.pyplot as plt\n",
        "%matplotlib inline"
      ]
    },
    {
      "cell_type": "code",
      "source": [
        "import io\n",
        "\n",
        "# reading csv file as pandas dataframe\n",
        "dataset=pd.read_csv('50_Startups.csv')\n",
        "print(dataset.head())"
      ],
      "metadata": {
        "colab": {
          "base_uri": "https://localhost:8080/"
        },
        "id": "R9xxqDSij-sX",
        "outputId": "fb33a709-705a-43c6-8bfd-821b377d4ba9"
      },
      "execution_count": null,
      "outputs": [
        {
          "output_type": "stream",
          "name": "stdout",
          "text": [
            "   R&D Spend  Administration  Marketing Spend       State     Profit\n",
            "0  165349.20       136897.80        471784.10    New York  192261.83\n",
            "1  162597.70       151377.59        443898.53  California  191792.06\n",
            "2  153441.51       101145.55        407934.54     Florida  191050.39\n",
            "3  144372.41       118671.85        383199.62    New York  182901.99\n",
            "4  142107.34        91391.77        366168.42     Florida  166187.94\n"
          ]
        }
      ]
    },
    {
      "cell_type": "code",
      "source": [
        "# collecting x & y\n",
        "X = dataset['Administration'].values\n",
        "Y = dataset['Marketing Spend'].values\n",
        "\n",
        "# calculate mean of x & y using an inbuilt numpy method mean()\n",
        "mean_x = np.mean(X)\n",
        "mean_y = np.mean(Y)"
      ],
      "metadata": {
        "id": "nYbRNu20kFoV"
      },
      "execution_count": null,
      "outputs": []
    },
    {
      "cell_type": "code",
      "source": [
        "# total no.of input values\n",
        "m = len(X)\n",
        "\n",
        "# using the formula to calculate m & c\n",
        "numer = 0\n",
        "denom = 0\n",
        "for i in range(m):\n",
        "  numer += (X[i] - mean_x) * (Y[i] - mean_y)\n",
        "  denom += (X[i] - mean_x) ** 2\n",
        "m = numer / denom\n",
        "c = mean_y - (m * mean_x)\n",
        "\n",
        "print (f'm = {m} \\nc = {c}')"
      ],
      "metadata": {
        "colab": {
          "base_uri": "https://localhost:8080/"
        },
        "id": "15hTnpcGkFtP",
        "outputId": "531fed59-30af-4dbc-a327-3cc29975b0ad"
      },
      "execution_count": null,
      "outputs": [
        {
          "output_type": "stream",
          "name": "stdout",
          "text": [
            "m = -0.14034317446086148 \n",
            "c = 228054.9897252732\n"
          ]
        }
      ]
    },
    {
      "cell_type": "code",
      "source": [
        "# plotting values and regression line\n",
        "max_x = np.max(X) + 100\n",
        "min_x = np.min(Y) - 100\n",
        "\n",
        "# calculating line values x and y\n",
        "x = np.linspace (min_x, max_x, 100)\n",
        "y = c + m * x\n",
        "\n",
        "plt.plot(x, y, color='#58b970', label='Regression Line')\n",
        "plt.scatter(X, Y, c='#ef5423', label='data points')\n",
        "\n",
        "plt.xlabel('Administration')\n",
        "plt.ylabel('Marketing Spend')\n",
        "plt.legend()\n",
        "plt.show()"
      ],
      "metadata": {
        "colab": {
          "base_uri": "https://localhost:8080/",
          "height": 279
        },
        "id": "enP0yXlFkFwv",
        "outputId": "ca791713-9fb3-4e07-a03e-7f5869b7e14c"
      },
      "execution_count": null,
      "outputs": [
        {
          "output_type": "display_data",
          "data": {
            "text/plain": [
              "<Figure size 432x288 with 1 Axes>"
            ],
            "image/png": "[encoded data removed]"
          },
          "metadata": {
            "needs_background": "light"
          }
        }
      ]
    },
    {
      "cell_type": "code",
      "source": [
        "rmse = 0\n",
        "n = len(X)\n",
        "numerator = 0\n",
        "denominator = 0\n",
        "x_mean = np.mean(X)\n",
        "y_mean = np.mean(Y)\n",
        "for i in range(n):\n",
        "    numerator += (X[i] - x_mean) * (Y[i] - y_mean)\n",
        "    denominator += (X[i] - x_mean) ** 2\n",
        "    \n",
        "b1 = numerator / denominator\n",
        "b0 = y_mean - (b1 * x_mean)\n",
        "\n",
        "#printing the coefficient\n",
        "print(b1, b0)\n",
        "\n",
        "for i in range(n):\n",
        "    y_pred=  b0 + b1* X[i]\n",
        "    rmse += (Y[i] - y_pred) ** 2\n",
        "    \n",
        "rmse = np.sqrt(rmse/n)\n",
        "\n",
        "print(rmse)"
      ],
      "metadata": {
        "colab": {
          "base_uri": "https://localhost:8080/"
        },
        "id": "_vrMxPgxkkX8",
        "outputId": "36336035-ad8d-44fc-bc16-e88615007b35"
      },
      "execution_count": null,
      "outputs": [
        {
          "output_type": "stream",
          "name": "stdout",
          "text": [
            "-0.14034317446086148 228054.9897252732\n",
            "120998.63410962734\n"
          ]
        }
      ]
    },
    {
      "cell_type": "code",
      "source": [
        "sumofsquares = 0\n",
        "sumofresiduals = 0\n",
        "\n",
        "for i in range(n) :\n",
        "    y_pred = b0 + b1 * X[i]\n",
        "    sumofsquares += (Y[i] - y_mean) ** 2\n",
        "    sumofresiduals += (Y[i] - y_pred) **2\n",
        "    \n",
        "score  = 1 - (sumofresiduals/sumofsquares)\n",
        "\n",
        "print(score)"
      ],
      "metadata": {
        "colab": {
          "base_uri": "https://localhost:8080/"
        },
        "id": "b_SXo1Trk3gI",
        "outputId": "1bdb04a7-35ec-4251-acf4-13696bfa9295"
      },
      "execution_count": null,
      "outputs": [
        {
          "output_type": "stream",
          "name": "stdout",
          "text": [
            "0.0010338716855784469\n"
          ]
        }
      ]
    }
  ]
}
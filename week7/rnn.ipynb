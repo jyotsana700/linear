{
  "nbformat": 4,
  "nbformat_minor": 0,
  "metadata": {
    "colab": {
      "provenance": []
    },
    "kernelspec": {
      "name": "python3",
      "display_name": "Python 3"
    },
    "language_info": {
      "name": "python"
    }
  },
  "cells": [
    {
      "cell_type": "code",
      "source": [
        "pip install unidecode"
      ],
      "metadata": {
        "colab": {
          "base_uri": "https://localhost:8080/"
        },
        "id": "J0eoPLHS2SFX",
        "outputId": "5a0aec9e-95ce-4842-be7f-ae95e2f8835a"
      },
      "execution_count": 3,
      "outputs": [
        {
          "output_type": "stream",
          "name": "stdout",
          "text": [
            "Looking in indexes: https://pypi.org/simple, https://us-python.pkg.dev/colab-wheels/public/simple/\n",
            "Collecting unidecode\n",
            "  Downloading Unidecode-1.3.6-py3-none-any.whl (235 kB)\n",
            "\u001b[K     |████████████████████████████████| 235 kB 13.5 MB/s \n",
            "\u001b[?25hInstalling collected packages: unidecode\n",
            "Successfully installed unidecode-1.3.6\n"
          ]
        }
      ]
    },
    {
      "cell_type": "code",
      "source": [
        "## Importing required packages\n",
        "import unidecode\n",
        "import string\n",
        "import random\n",
        "import re"
      ],
      "metadata": {
        "id": "UwNt9H9-2fFl"
      },
      "execution_count": 4,
      "outputs": []
    },
    {
      "cell_type": "code",
      "source": [
        "all_characters = string.printable\n",
        "## code to find length of all_characters and storing the value in n_characters\n",
        "n_characters = len(all_characters)\n",
        "## code to convert unicode characters into plain ASCII.\n",
        "file = unidecode.unidecode(open('shakespeare.txt').read())\n",
        "## code to find length of the file\n",
        "file_len = len(file)\n",
        "## printing the length of the file\n",
        "print('file_len =', file_len)"
      ],
      "metadata": {
        "colab": {
          "base_uri": "https://localhost:8080/"
        },
        "id": "1teWT4_U2Gho",
        "outputId": "f81db8b7-9d76-450b-d0d5-8e230dc6c2c9"
      },
      "execution_count": 6,
      "outputs": [
        {
          "output_type": "stream",
          "name": "stdout",
          "text": [
            "file_len = 1115393\n"
          ]
        }
      ]
    },
    {
      "cell_type": "code",
      "source": [
        "## Initializing the length of chunk\n",
        "chunk_len = 200\n",
        "## Function to split the string into chunks\n",
        "def random_chunk():\n",
        "    ## Initializing the starting index value of the big string \n",
        "    start_index = random.randint(0, file_len - chunk_len)\n",
        "    ## Initializing the ending index of the string \n",
        "    end_index = start_index + chunk_len + 1\n",
        "    ## returning the chunk\n",
        "    return file[start_index:end_index]\n",
        "\n",
        "print(random_chunk())"
      ],
      "metadata": {
        "colab": {
          "base_uri": "https://localhost:8080/"
        },
        "id": "fBXVqD0E2sI1",
        "outputId": "128d9e7c-e2e2-4d2c-fe2f-9e0234ee4a1c"
      },
      "execution_count": 7,
      "outputs": [
        {
          "output_type": "stream",
          "name": "stdout",
          "text": [
            "g all, Guilty! guilty!\n",
            "I shall despair. There is no creature loves me;\n",
            "And if I die, no soul shall pity me:\n",
            "Nay, wherefore should they, since that I myself\n",
            "Find in myself no pity to myself?\n",
            "Methought t\n"
          ]
        }
      ]
    },
    {
      "cell_type": "code",
      "source": [
        "###importing required packages\n",
        "import torch\n",
        "import torch.nn as nn\n",
        "from torch.autograd import Variable\n",
        "\n",
        "### Creating recurrent neural network\n",
        "class RNN(nn.Module):\n",
        "    \n",
        "    def __init__(self, input_size, hidden_size, output_size, n_layers=1):\n",
        "        super(RNN, self).__init__()\n",
        "        self.input_size = input_size\n",
        "        self.hidden_size = hidden_size\n",
        "        self.output_size = output_size\n",
        "        self.n_layers = n_layers\n",
        "        self.encoder = nn.Embedding(input_size, hidden_size)\n",
        "        self.gru = nn.GRU(hidden_size, hidden_size, n_layers)\n",
        "        self.decoder = nn.Linear(hidden_size, output_size)\n",
        "    \n",
        "    def forward(self, input, hidden):\n",
        "        input = self.encoder(input.view(1, -1))\n",
        "        output, hidden = self.gru(input.view(1, 1, -1), hidden)\n",
        "        output = self.decoder(output.view(1, -1))\n",
        "        return output, hidden\n",
        "\n",
        "    def init_hidden(self):\n",
        "        return Variable(torch.zeros(self.n_layers, 1, self.hidden_size))"
      ],
      "metadata": {
        "id": "cFvhZ4oo2sMN"
      },
      "execution_count": 8,
      "outputs": []
    },
    {
      "cell_type": "code",
      "source": [
        "# Turn string into list of longs\n",
        "def char_tensor(string):\n",
        "    ## tensor is a array\n",
        "    tensor = torch.zeros(len(string)).long()\n",
        "    for c in range(len(string)):\n",
        "        tensor[c] = all_characters.index(string[c])\n",
        "    return Variable(tensor)\n",
        "\n",
        "print(char_tensor('abcDEF'))"
      ],
      "metadata": {
        "colab": {
          "base_uri": "https://localhost:8080/"
        },
        "id": "vH6jxBsz2sPM",
        "outputId": "fa76a3a8-5c93-4e73-ea3c-016d9091b14d"
      },
      "execution_count": 9,
      "outputs": [
        {
          "output_type": "stream",
          "name": "stdout",
          "text": [
            "tensor([10, 11, 12, 39, 40, 41])\n"
          ]
        }
      ]
    },
    {
      "cell_type": "code",
      "source": [
        "def random_training_set():    \n",
        "    chunk = random_chunk()\n",
        "    inp = char_tensor(chunk[:-1])\n",
        "    target = char_tensor(chunk[1:])\n",
        "    return inp, target"
      ],
      "metadata": {
        "id": "pFGOOM6q2sSj"
      },
      "execution_count": 10,
      "outputs": []
    },
    {
      "cell_type": "code",
      "source": [
        "def evaluate(prime_str='A', predict_len=100, temperature=0.8):\n",
        "    hidden = decoder.init_hidden()\n",
        "    prime_input = char_tensor(prime_str)\n",
        "    predicted = prime_str\n",
        "\n",
        "    # Use priming string to \"build up\" hidden state\n",
        "    for p in range(len(prime_str) - 1):\n",
        "        _, hidden = decoder(prime_input[p], hidden)\n",
        "    inp = prime_input[-1]\n",
        "    \n",
        "    for p in range(predict_len):\n",
        "        output, hidden = decoder(inp, hidden)\n",
        "        \n",
        "        # Sample from the network as a multinomial distribution\n",
        "        output_dist = output.data.view(-1).div(temperature).exp()\n",
        "        top_i = torch.multinomial(output_dist, 1)[0]\n",
        "        \n",
        "        # Add predicted character to string and use as next input\n",
        "        predicted_char = all_characters[top_i]\n",
        "        predicted += predicted_char\n",
        "        inp = char_tensor(predicted_char)\n",
        "\n",
        "    return predicted"
      ],
      "metadata": {
        "id": "E_clBMT_24jT"
      },
      "execution_count": 11,
      "outputs": []
    },
    {
      "cell_type": "code",
      "source": [
        "## Importing required packages\n",
        "import time, math\n",
        "## function to print amount of time passed\n",
        "def time_since(since):\n",
        "    s = time.time() - since\n",
        "    m = math.floor(s / 60)\n",
        "    s -= m * 60\n",
        "    return '%dm %ds' % (m, s)"
      ],
      "metadata": {
        "id": "9g7TQIUA24mg"
      },
      "execution_count": 12,
      "outputs": []
    },
    {
      "cell_type": "code",
      "source": [
        "def train(inp, target):\n",
        "    hidden = decoder.init_hidden()\n",
        "    decoder.zero_grad()\n",
        "    loss = 0\n",
        "\n",
        "    for c in range(chunk_len):\n",
        "        output, hidden = decoder(inp[c], hidden)\n",
        "        loss += criterion(output, target[c].unsqueeze(0))\n",
        "\n",
        "    loss.backward()\n",
        "    decoder_optimizer.step()\n",
        "\n",
        "    return loss.data.item() / chunk_len"
      ],
      "metadata": {
        "id": "G3F04JoU24p1"
      },
      "execution_count": 13,
      "outputs": []
    },
    {
      "cell_type": "code",
      "source": [
        "n_epochs = 2000 #Number of epochs\n",
        "print_every = 50\n",
        "plot_every = 20\n",
        "hidden_size = 100\n",
        "n_layers = 1\n",
        "lr = 0.005\n",
        "\n",
        "decoder = RNN(n_characters, hidden_size, n_characters, n_layers)\n",
        "## Optimizer\n",
        "decoder_optimizer = torch.optim.Adam(decoder.parameters(), lr=lr)\n",
        "## Loss function\n",
        "criterion = nn.CrossEntropyLoss()\n",
        "\n",
        "start = time.time()\n",
        "all_losses = []\n",
        "loss_avg = 0\n",
        "\n",
        "#In this for loop for every 100th iteration we are printing the time taken, loss and the chunk.\n",
        "for epoch in range(1, n_epochs + 1):\n",
        "    loss = train(*random_training_set())       \n",
        "    loss_avg += loss\n",
        "\n",
        "    if epoch % print_every == 0:\n",
        "        print('[%s (%d %d%%) %.4f]' % (time_since(start), epoch, epoch / n_epochs * 100, loss))\n",
        "        print(evaluate('Wh', 100), '\\n')\n",
        "\n",
        "    if epoch % plot_every == 0:\n",
        "        all_losses.append(loss_avg / plot_every)\n",
        "        loss_avg = 0"
      ],
      "metadata": {
        "colab": {
          "base_uri": "https://localhost:8080/"
        },
        "id": "o2H-5voN2-zi",
        "outputId": "ca9f008a-5c70-4dfc-f533-c7f814ac7813"
      },
      "execution_count": 14,
      "outputs": [
        {
          "output_type": "stream",
          "name": "stdout",
          "text": [
            "[0m 6s (50 2%) 2.4009]\n",
            "Whow.\n",
            "\n",
            "\n",
            "The.\n",
            "WAithe sero I s sse theu, wou u rour rord ter thersde nou seatd ourendll ine I nod ther m \n",
            "\n",
            "[0m 11s (100 5%) 2.3596]\n",
            "Whef nown, to fay, ing mive show lar.\n",
            "\n",
            "PRINCHARIARA:\n",
            "Bhing wenir you mind beill ome row ar'd geal thou \n",
            "\n",
            "[0m 15s (150 7%) 2.3623]\n",
            "Whe me of pow:\n",
            "Iwe you lowe, soy pether haubend:\n",
            "Wet this havids ya,\n",
            "noo ke me wid'd heat shat in seib \n",
            "\n",
            "[0m 20s (200 10%) 2.1134]\n",
            "What the seughen win falell frisplat fait.\n",
            "\n",
            "DUKE wIO:\n",
            "I heat ind, the mis,\n",
            "Por hat but bleer and wis a \n",
            "\n",
            "[0m 29s (250 12%) 2.1913]\n",
            "Whant,\n",
            "Oger fredds promy dlowe it shat the hean fall of, the and be goolor to the be nom all, goo raut \n",
            "\n",
            "[0m 35s (300 15%) 2.2063]\n",
            "Whargher wodiece sun'd Mure, stare\n",
            "no pame burtand breellou is gefo, and mack at this your made parke\n",
            " \n",
            "\n",
            "[0m 41s (350 17%) 2.1550]\n",
            "Whe cove comon houder and you have bloon'd sith not it ceard, Is lobloning kore ir that, le the such o \n",
            "\n",
            "[0m 46s (400 20%) 2.0535]\n",
            "Whis sinesly to goord,\n",
            "And wive, in weth were and would may,\n",
            "And well with.\n",
            "\n",
            "GLOUCENTO:\n",
            "I whay, I to d \n",
            "\n",
            "[0m 54s (450 22%) 2.1613]\n",
            "Where bean be wire heep yens hertoun\n",
            "Than bresto the mangest oul and hay erreverene the the nons an,\n",
            "A \n",
            "\n",
            "[1m 0s (500 25%) 1.8871]\n",
            "Whe and the to are to to her bighter sing\n",
            "Trut he bread heaty your cone's an, wight--\n",
            "The you manengey \n",
            "\n",
            "[1m 5s (550 27%) 2.0397]\n",
            "Whanh the thered my poult, a have and ing's must Eus rets hearth ere cnot,\n",
            "The shat him preen ablobe m \n",
            "\n",
            "[1m 10s (600 30%) 1.8234]\n",
            "Whe Sir;\n",
            "Of the dena, and hen theartile of chat\n",
            "Make now so of and a beled and to, thelt.\n",
            "\n",
            "MARARINIU B \n",
            "\n",
            "[1m 15s (650 32%) 1.9483]\n",
            "Why gefor doan.\n",
            "\n",
            "BENNRY BORGLANI:\n",
            "You all men in is essot: go for mat so reatis, sey with mace,\n",
            "Wid kn \n",
            "\n",
            "[1m 19s (700 35%) 1.7927]\n",
            "Whe death it pursess is as match.\n",
            "\n",
            "BARIS:\n",
            "The chanrry list's that the wither and to of to that of hist \n",
            "\n",
            "[1m 24s (750 37%) 1.8880]\n",
            "Whist are mong to,\n",
            "Domen; by the prick, deard not dearcian thee\n",
            "Tome my gorn the man of yut for it's a \n",
            "\n",
            "[1m 29s (800 40%) 1.9294]\n",
            "Whear what thoul ise anger she palsect muse ya's the pove.\n",
            "\n",
            "RORGLAU:\n",
            "Nor that rewar jonous coult with  \n",
            "\n",
            "[1m 34s (850 42%) 1.9474]\n",
            "Whered.\n",
            "\n",
            "Second out well one me my sofe!\n",
            "Ind, and but swill.\n",
            "\n",
            "SO\n",
            "O, treak be to midle, dister, my lome \n",
            "\n",
            "[1m 39s (900 45%) 2.1877]\n",
            "Whartien, sare, sward, your prided ingof hath\n",
            "So a welre af true to have to if man, 'theate in in kidu \n",
            "\n",
            "[1m 44s (950 47%) 2.1931]\n",
            "Whice your hone a shill your reitius.\n",
            "\n",
            "QUEEEN:\n",
            "I hatted lid were ust.\n",
            "\n",
            "MONETAS:\n",
            "Cut slet, see thee goo \n",
            "\n",
            "[1m 50s (1000 50%) 2.0256]\n",
            "Where, wied of the willll!\n",
            "\n",
            "PETRUCIO:\n",
            "I warles the stine the make more, you make soname\n",
            "Sharet and and \n",
            "\n",
            "[1m 54s (1050 52%) 1.8258]\n",
            "Which, a not with thil chile,\n",
            "I'l what wather which and buter in are\n",
            "And Murder:\n",
            "I dome the word we wi \n",
            "\n",
            "[1m 59s (1100 55%) 2.1485]\n",
            "Why, and downver to the come with\n",
            "He deadly lester the more and fathe,\n",
            "Call the deece!t a worlded are  \n",
            "\n",
            "[2m 4s (1150 57%) 1.8980]\n",
            "Wher will, lord hath to me shounst that what and thou the frong sapiou\n",
            "cond of af de! time?\n",
            "\n",
            "FRIFDIO:\n",
            " \n",
            "\n",
            "[2m 9s (1200 60%) 1.6589]\n",
            "Where; sun, no Edwand with true have her she it of and the coman:\n",
            "Of my lord Here's the nots\n",
            "We ave 't \n",
            "\n",
            "[2m 14s (1250 62%) 1.9884]\n",
            "Whince, and these righard,\n",
            "Be criened or the in here lies dail, the dust!\n",
            "\n",
            "KING RICHARD II:\n",
            "Wherce our \n",
            "\n",
            "[2m 19s (1300 65%) 1.7157]\n",
            "Whisly of Coward the dearn,\n",
            "Is the more of thou hef the depoon,\n",
            "The my good for chand the seever?\n",
            "\n",
            "ESC \n",
            "\n",
            "[2m 24s (1350 67%) 1.8617]\n",
            "Wherp where to for made no but\n",
            "And mees but a knewd.\n",
            "\n",
            "Seroves?\n",
            "\n",
            "Secome.\n",
            "\n",
            "AUTOLYCUS:\n",
            "Sear vill surn, my \n",
            "\n",
            "[2m 29s (1400 70%) 1.9096]\n",
            "What mident is the rebtelf\n",
            "To hold mate your fime in to my letce\n",
            "Where your for that the dow thy lows, \n",
            "\n",
            "[2m 34s (1450 72%) 2.0323]\n",
            "Whicse pine shall a seathon,\n",
            "For mine ament fain appor as me han\n",
            "bere hath should poor was nears, my l \n",
            "\n",
            "[2m 39s (1500 75%) 1.9620]\n",
            "What to king luther hincef to the\n",
            "He serfor mir: thouse them?\n",
            "\n",
            "PLINES:\n",
            "And Hering Coments and tool.\n",
            "\n",
            "M \n",
            "\n",
            "[2m 44s (1550 77%) 1.8215]\n",
            "Whath and eecture to me thou your go must it of think me thought then\n",
            "And have onespard conself\n",
            "And ho \n",
            "\n",
            "[2m 49s (1600 80%) 1.8513]\n",
            "Where lord I pardon;\n",
            "And but to che born,\n",
            "'Ting not might is shought;\n",
            "You no movery is he sight hort w \n",
            "\n",
            "[2m 53s (1650 82%) 1.8919]\n",
            "What you and durther Walion them.\n",
            "I'll hather'd upon dred upongume due the ford, did the genther:\n",
            "The  \n",
            "\n",
            "[2m 58s (1700 85%) 1.9907]\n",
            "What to your fire\n",
            "The wild the give one to her spently\n",
            "Bener is to thou whould but mistore our of of t \n",
            "\n",
            "[3m 3s (1750 87%) 1.7942]\n",
            "Which not not tempop,\n",
            "I is foll, my lavy me and for are and arbeath are a arrice, uny dand to the what \n",
            "\n",
            "[3m 8s (1800 90%) 1.7318]\n",
            "While again any your house\n",
            "Beselst his shack up in have a faich:\n",
            "agater's so know a the note quing sha \n",
            "\n",
            "[3m 13s (1850 92%) 1.5834]\n",
            "Where metoring to miet, of the with the\n",
            "lraw of stear his elpain of your shing, he and this speberew f \n",
            "\n",
            "[3m 18s (1900 95%) 1.7545]\n",
            "Wher am ext.\n",
            "\n",
            "MENENIUS:\n",
            "If the nervers my my the arreus stou hears.\n",
            "\n",
            "NARUMIO:\n",
            "A for my king, onough so \n",
            "\n",
            "[3m 23s (1950 97%) 1.7748]\n",
            "Whe of hore hours was have am noth's are maid;\n",
            "And what last these all me are theefutle gentse be maid \n",
            "\n",
            "[3m 27s (2000 100%) 1.7490]\n",
            "Wheres prosturing and of the green steo a belensed,\n",
            "Man spere than can heet that would give and tiges' \n",
            "\n"
          ]
        }
      ]
    },
    {
      "cell_type": "code",
      "source": [
        "\n",
        "import matplotlib.pyplot as plt\n",
        "import matplotlib.ticker as ticker\n",
        "%matplotlib inline\n",
        "\n",
        "plt.figure()\n",
        "plt.plot(all_losses)\n",
        "plt.xlabel(\"epoch\")\n",
        "plt.ylabel(\"loss\")"
      ],
      "metadata": {
        "colab": {
          "base_uri": "https://localhost:8080/",
          "height": 296
        },
        "id": "c_uA6HWR2-33",
        "outputId": "d8dbd390-41ff-47c4-fbcf-ba3bb9452910"
      },
      "execution_count": 15,
      "outputs": [
        {
          "output_type": "execute_result",
          "data": {
            "text/plain": [
              "Text(0, 0.5, 'loss')"
            ]
          },
          "metadata": {},
          "execution_count": 15
        },
        {
          "output_type": "display_data",
          "data": {
            "text/plain": [
              "<Figure size 432x288 with 1 Axes>"
            ],
            "image/png": "[encoded data removed]"
          },
          "metadata": {
            "needs_background": "light"
          }
        }
      ]
    },
    {
      "cell_type": "code",
      "source": [
        "print(evaluate('u', 200, temperature=0.8))"
      ],
      "metadata": {
        "colab": {
          "base_uri": "https://localhost:8080/"
        },
        "id": "UcqvPjYA2-7n",
        "outputId": "07225d4b-63ac-45cc-cef7-9b0b879d3a57"
      },
      "execution_count": 16,
      "outputs": [
        {
          "output_type": "stream",
          "name": "stdout",
          "text": [
            "ure do mesion,\n",
            "-shan our comsed a prine,\n",
            "These which that wather and the are the him have deef,\n",
            "Dome a kinded the than a movery fellovep:\n",
            "There'd and the prinches hath him, your of\n",
            "come than there his \n"
          ]
        }
      ]
    },
    {
      "cell_type": "code",
      "source": [
        "print(evaluate('how', 200, temperature=1.4))"
      ],
      "metadata": {
        "colab": {
          "base_uri": "https://localhost:8080/"
        },
        "id": "LhYqV1RL3JhE",
        "outputId": "080f08df-a2bf-4def-bd7f-aa220d212e95"
      },
      "execution_count": 17,
      "outputs": [
        {
          "output_type": "stream",
          "name": "stdout",
          "text": [
            "howk?bO:\n",
            "Tue your hio houm war: you wancy:\n",
            "te to yould heo to forts harto o'thind you hull a grabuinmtan.\n",
            "ere'bit an: Clafelfnt, puttige.\n",
            "\n",
            "GdWbLaEN sir,\n",
            "EZAdnion cooffel's we nuttighinke, our undiens.\n",
            "St\n"
          ]
        }
      ]
    },
    {
      "cell_type": "code",
      "source": [],
      "metadata": {
        "id": "JODK7g_F3Jkk"
      },
      "execution_count": null,
      "outputs": []
    },
    {
      "cell_type": "code",
      "source": [],
      "metadata": {
        "id": "SteSvMSZ3Jn-"
      },
      "execution_count": null,
      "outputs": []
    }
  ]
}
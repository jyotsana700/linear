{
  "nbformat": 4,
  "nbformat_minor": 0,
  "metadata": {
    "colab": {
      "provenance": [],
      "collapsed_sections": []
    },
    "kernelspec": {
      "name": "python3",
      "display_name": "Python 3"
    },
    "language_info": {
      "name": "python"
    }
  },
  "cells": [
    {
      "cell_type": "code",
      "execution_count": 1,
      "metadata": {
        "id": "lce8rRQHjotJ"
      },
      "outputs": [],
      "source": [
        "import pandas as pd \n",
        "import numpy as np \n",
        "import matplotlib.pyplot as plt \n",
        "from sklearn.linear_model import LinearRegression, Ridge, Lasso \n",
        "from sklearn.model_selection import train_test_split, cross_val_score \n",
        "from statistics import mean "
      ]
    },
    {
      "cell_type": "code",
      "source": [
        "data = pd.read_csv('kc_house_data.csv')"
      ],
      "metadata": {
        "id": "wUfuM2vWn6Mk"
      },
      "execution_count": 2,
      "outputs": []
    },
    {
      "cell_type": "code",
      "source": [
        "Columns = ['id', 'date', 'zipcode'] \n",
        "data = data.drop(Columns, axis = 1) \n",
        "y = data['price'] \n",
        "X = data.drop('price', axis = 1) \n",
        "X_train, X_test, y_train, y_test = train_test_split(X, y, test_size = 0.10) "
      ],
      "metadata": {
        "id": "DtR28cRRn6QO"
      },
      "execution_count": 3,
      "outputs": []
    },
    {
      "cell_type": "code",
      "source": [
        "linearModel = LinearRegression() \n",
        "linearModel.fit(X_train, y_train) \n",
        "print(linearModel.score(X_test, y_test)) "
      ],
      "metadata": {
        "colab": {
          "base_uri": "https://localhost:8080/"
        },
        "id": "58Am4U2Zn6Ts",
        "outputId": "919b4fc3-886a-4f72-b84a-a77715e6cfb1"
      },
      "execution_count": 4,
      "outputs": [
        {
          "output_type": "stream",
          "name": "stdout",
          "text": [
            "0.683036138813458\n"
          ]
        }
      ]
    },
    {
      "cell_type": "code",
      "source": [
        "# Building and fitting the Ridge Regression model \n",
        "ridgeModelChosen = Ridge(alpha = 2) \n",
        "ridgeModelChosen.fit(X_train, y_train) \n",
        "\n",
        "# Evaluating the Ridge Regression model \n",
        "print(ridgeModelChosen.score(X_test, y_test))"
      ],
      "metadata": {
        "colab": {
          "base_uri": "https://localhost:8080/"
        },
        "id": "noZPliB5n6XB",
        "outputId": "27b32273-d750-43f1-d374-28b961c34538"
      },
      "execution_count": 5,
      "outputs": [
        {
          "output_type": "stream",
          "name": "stdout",
          "text": [
            "0.6831799786570637\n"
          ]
        }
      ]
    },
    {
      "cell_type": "code",
      "source": [
        "# Building and fitting the Lasso Regression Model \n",
        "lassoModelChosen = Lasso(alpha = 2, tol = 0.0925) \n",
        "lassoModelChosen.fit(X_train, y_train) \n",
        "\n",
        "# Evaluating the Lasso Regression model \n",
        "print(lassoModelChosen.score(X_test, y_test)) "
      ],
      "metadata": {
        "colab": {
          "base_uri": "https://localhost:8080/"
        },
        "id": "o3TBTCryn6aA",
        "outputId": "e77caf00-bf07-40d1-bcb8-bdf426c049ea"
      },
      "execution_count": 6,
      "outputs": [
        {
          "output_type": "stream",
          "name": "stdout",
          "text": [
            "0.6830391781316585\n"
          ]
        }
      ]
    },
    {
      "cell_type": "code",
      "source": [
        "# Plotting the scores \n",
        "models = ['Linear Regression', 'Ridge Regression', 'Lasso Regression'] \n",
        "scores = [linearModel.score(X_test, y_test), \n",
        "        ridgeModelChosen.score(X_test, y_test), \n",
        "        lassoModelChosen.score(X_test, y_test)] \n",
        "plt.bar(models, scores) \n",
        "plt.xlabel('Regression Models') \n",
        "plt.ylabel('Score') \n",
        "plt.show() "
      ],
      "metadata": {
        "colab": {
          "base_uri": "https://localhost:8080/",
          "height": 279
        },
        "id": "CoedC0yPn6df",
        "outputId": "bc7d3a37-0da6-4ad1-df02-f10ecc58f333"
      },
      "execution_count": 9,
      "outputs": [
        {
          "output_type": "display_data",
          "data": {
            "text/plain": [
              "<Figure size 432x288 with 1 Axes>"
            ],
            "image/png": "[encoded data removed]"
          },
          "metadata": {
            "needs_background": "light"
          }
        }
      ]
    },
    {
      "cell_type": "code",
      "source": [],
      "metadata": {
        "id": "12tkTNmun6ho"
      },
      "execution_count": null,
      "outputs": []
    }
  ]
}